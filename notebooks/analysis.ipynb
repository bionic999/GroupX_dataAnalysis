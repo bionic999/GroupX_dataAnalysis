{
 "cells": [
  {
   "cell_type": "code",
   "execution_count": 13,
   "id": "1c973866-488c-4c0c-b124-ecc2ee8af5f7",
   "metadata": {},
   "outputs": [
    {
     "name": "stderr",
     "output_type": "stream",
     "text": [
      "2025-08-18 11:47:18,123 - ERROR - Individuals_using_the_internet not found at GroupX_DataAnalysis\\data\\raw\\Individuals_using_the_internet.csv\n",
      "2025-08-18 11:47:18,124 - ERROR - Youth_unemployment not found at GroupX_DataAnalysis\\data\\raw\\Youth_unemployment.csv\n"
     ]
    }
   ],
   "source": [
    "import sys\n",
    "import os\n",
    "sys.path.append(r\"C:\\Users\\Admin\\Desktop\\GroupX_DataAnalysis\")\n",
    "import pandas as pd\n",
    "from data_pipeline import load_data, clean_data\n",
    "\n",
    "df1 = load_data(r\"C:\\Users\\Admin\\Desktop\\GroupX_DataAnalysis\\data\\raw\\Individuals_using_the_internet.csv \", 'Individuals_using_the_internet')\n",
    "df2 = load_data(r'GroupX_DataAnalysis\\data\\raw\\Youth_unemployment.csv', 'Youth_unemployment')"
   ]
  },
  {
   "cell_type": "code",
   "execution_count": null,
   "id": "0968c6f2-1948-4a9e-a02f-b1a28a51b905",
   "metadata": {},
   "outputs": [],
   "source": []
  },
  {
   "cell_type": "code",
   "execution_count": null,
   "id": "79e4a120-d8a0-4a3e-acd2-dd1c3c225938",
   "metadata": {},
   "outputs": [],
   "source": []
  }
 ],
 "metadata": {
  "kernelspec": {
   "display_name": "Python 3 (ipykernel)",
   "language": "python",
   "name": "python3"
  },
  "language_info": {
   "codemirror_mode": {
    "name": "ipython",
    "version": 3
   },
   "file_extension": ".py",
   "mimetype": "text/x-python",
   "name": "python",
   "nbconvert_exporter": "python",
   "pygments_lexer": "ipython3",
   "version": "3.12.6"
  }
 },
 "nbformat": 4,
 "nbformat_minor": 5
}
