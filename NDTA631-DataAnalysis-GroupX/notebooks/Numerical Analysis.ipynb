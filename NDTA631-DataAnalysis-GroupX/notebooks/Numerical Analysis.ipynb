{
 "cells": [
  {
   "cell_type": "code",
   "execution_count": 4,
   "id": "62221286-5190-4fbd-bf67-5de8ce8076e1",
   "metadata": {},
   "outputs": [
    {
     "name": "stdout",
     "output_type": "stream",
     "text": [
      "Employment shape: (1, 66)\n",
      "Poverty shape: (4, 5)\n",
      "Reshaped employment: (1, 66)\n",
      "Reshaped poverty: (4, 5)\n"
     ]
    }
   ],
   "source": [
    "import pandas as pd\n",
    "import numpy as np\n",
    "\n",
    "# We already have our cleaned & filtered Pandas DataFrames (employment_sa_clean.csv and poverty_sa_clean.csv) from our pipeline, now we convert them into NumPy arrays for numerical operations:\n",
    "employment = pd.read_csv(r\"C:\\Users\\Admin\\Desktop\\GroupX_DataAnalysis\\NDTA631-DataAnalysis-GroupX\\data\\processed\\employment_sa_clean.csv\")\n",
    "poverty = pd.read_csv(r\"C:\\Users\\Admin\\Desktop\\GroupX_DataAnalysis\\NDTA631-DataAnalysis-GroupX\\data\\processed\\poverty_sa_clean.csv\")\n",
    "\n",
    "# Convert selected numeric columns to NumPy arrays\n",
    "employment_array = employment.select_dtypes(include=[np.number]).to_numpy()\n",
    "poverty_array = poverty.select_dtypes(include=[np.number]).to_numpy()\n",
    "\n",
    "print(\"Employment shape:\", employment_array.shape)\n",
    "print(\"Poverty shape:\", poverty_array.shape)\n",
    "\n",
    "#Now we reshape the arrays\n",
    "# Example: reshape to 2D (rows, cols)\n",
    "employment_reshaped = employment_array.reshape(employment_array.shape[0], -1)\n",
    "poverty_reshaped = poverty_array.reshape(poverty_array.shape[0], -1)\n",
    "\n",
    "print(\"Reshaped employment:\", employment_reshaped.shape)\n",
    "print(\"Reshaped poverty:\", poverty_reshaped.shape)\n",
    "\n"
   ]
  },
  {
   "cell_type": "code",
   "execution_count": 7,
   "id": "5fd0873f-5d6e-45b6-a88b-41a3e5fd26a7",
   "metadata": {},
   "outputs": [
    {
     "name": "stdout",
     "output_type": "stream",
     "text": [
      "\n",
      "--- Employment Stats ---\n",
      "Mean values: [ 2.          0.         60.079      59.64033333 59.482      59.01\n",
      " 58.92033333 59.10333333 59.583      59.90166667 60.049      60.255\n",
      " 58.377      52.13275    52.28475    56.5716     52.77075    48.41745455\n",
      " 52.77846036 50.0437534  51.29031831 51.44413834 51.41857857 51.13788407\n",
      " 52.09399587 53.29276358 51.89257801 52.52918786 52.21640828 54.45103007\n",
      " 54.60475466 56.26305351 54.81168621 55.8611311  55.48923607 55.39511324\n",
      " 38.2        37.8        34.8        27.7        34.         36.8\n",
      " 35.587      44.08       42.834      41.511      41.593      43.376\n",
      " 44.896      44.43       43.286      41.264      39.365      39.317\n",
      " 39.524      40.041      40.044      40.862      40.195      40.393\n",
      " 40.319      39.534      35.779      34.332      35.701      37.359     ]\n",
      "Standard deviation: [0. 0. 0. 0. 0. 0. 0. 0. 0. 0. 0. 0. 0. 0. 0. 0. 0. 0. 0. 0. 0. 0. 0. 0.\n",
      " 0. 0. 0. 0. 0. 0. 0. 0. 0. 0. 0. 0. 0. 0. 0. 0. 0. 0. 0. 0. 0. 0. 0. 0.\n",
      " 0. 0. 0. 0. 0. 0. 0. 0. 0. 0. 0. 0. 0. 0. 0. 0. 0. 0.]\n",
      "\n",
      "--- Poverty Stats ---\n",
      "Mean values: [2.00925e+03 5.93500e+01 2.00000e+00 0.00000e+00         nan]\n",
      "Standard deviation: [3.26917421 5.30966101 0.         0.                nan]\n"
     ]
    }
   ],
   "source": [
    "#This cell will show how we perform useful operations for analysis\n",
    "# Mean, median, standard deviation\n",
    "employment_mean = np.mean(employment_array, axis=0)\n",
    "poverty_mean = np.mean(poverty_array, axis=0)\n",
    "\n",
    "employment_std = np.std(employment_array, axis=0)\n",
    "poverty_std = np.std(poverty_array, axis=0)\n",
    "\n",
    "print(\"\\n--- Employment Stats ---\")\n",
    "print(\"Mean values:\", employment_mean)\n",
    "print(\"Standard deviation:\", employment_std)\n",
    "\n",
    "print(\"\\n--- Poverty Stats ---\")\n",
    "print(\"Mean values:\", poverty_mean)\n",
    "print(\"Standard deviation:\", poverty_std)\n",
    "\n",
    "# Element-wise operations (if same shape)\n",
    "if employment_array.shape == poverty_array.shape:\n",
    "    diff = employment_array - poverty_array\n",
    "    correlation = np.corrcoef(employment_array.flatten(), poverty_array.flatten())[0,1]\n",
    "    print(\"Correlation between employment & poverty:\", correlation)\n",
    " "
   ]
  },
  {
   "cell_type": "code",
   "execution_count": 8,
   "id": "3194e095-e790-447b-97cb-ab29c54491fb",
   "metadata": {},
   "outputs": [
    {
     "name": "stdout",
     "output_type": "stream",
     "text": [
      "\n",
      "Interpretation:\n",
      "1. The mean values show the central tendency for employment and poverty indicators.\n",
      "2. Standard deviation highlights variability — higher std means more fluctuations.\n",
      "3. If correlation is negative, it suggests that as employment increases, poverty decreases.\n",
      "4. Reshaping ensures arrays are in a form suitable for mathematical operations/comparisons.\n"
     ]
    }
   ],
   "source": [
    "# Findings\n",
    "print(\"\\nInterpretation:\")\n",
    "print(\"1. The mean values show the central tendency for employment and poverty indicators.\")\n",
    "print(\"2. Standard deviation highlights variability — higher std means more fluctuations.\")\n",
    "print(\"3. If correlation is negative, it suggests that as employment increases, poverty decreases.\")\n",
    "print(\"4. Reshaping ensures arrays are in a form suitable for mathematical operations/comparisons.\")"
   ]
  },
  {
   "cell_type": "code",
   "execution_count": null,
   "id": "cf0a1739-259a-4b74-a3a7-33e5d2fe8f7e",
   "metadata": {},
   "outputs": [],
   "source": []
  }
 ],
 "metadata": {
  "kernelspec": {
   "display_name": "Python 3 (ipykernel)",
   "language": "python",
   "name": "python3"
  },
  "language_info": {
   "codemirror_mode": {
    "name": "ipython",
    "version": 3
   },
   "file_extension": ".py",
   "mimetype": "text/x-python",
   "name": "python",
   "nbconvert_exporter": "python",
   "pygments_lexer": "ipython3",
   "version": "3.12.6"
  }
 },
 "nbformat": 4,
 "nbformat_minor": 5
}
